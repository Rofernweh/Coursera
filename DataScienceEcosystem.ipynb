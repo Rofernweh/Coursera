{
  "metadata": {
    "kernelspec": {
      "name": "python",
      "display_name": "Python (Pyodide)",
      "language": "python"
    },
    "language_info": {
      "codemirror_mode": {
        "name": "python",
        "version": 3
      },
      "file_extension": ".py",
      "mimetype": "text/x-python",
      "name": "python",
      "nbconvert_exporter": "python",
      "pygments_lexer": "ipython3",
      "version": "3.8"
    }
  },
  "nbformat_minor": 5,
  "nbformat": 4,
  "cells": [
    {
      "id": "cfecd846-2c33-4396-a090-9de610ac1288",
      "cell_type": "markdown",
      "source": "# Data Science Tools and Ecosystem",
      "metadata": {}
    },
    {
      "id": "53ba552b-3fb9-4073-b1d0-67b93ec3a5d4",
      "cell_type": "markdown",
      "source": "In this notebook, we will explore the Data Science Tools and Ecosystem, as the title suggests.",
      "metadata": {}
    },
    {
      "id": "552567d4-39ac-48ca-8170-914b2c05f777",
      "cell_type": "markdown",
      "source": "Some of the popular languages that Data Scientists use are:\n1. Python\n2. R\n3. SQL",
      "metadata": {}
    },
    {
      "id": "28bc4d5b-9918-4c87-ab8c-b71f42d81936",
      "cell_type": "markdown",
      "source": "Some of the commonly used libraries by Data Scientists include:\n1. Pandas\n2. NumPy\n3. Matplotlib",
      "metadata": {}
    },
    {
      "id": "998e1073-d1f9-4f6c-bd31-2aad4ffe9afc",
      "cell_type": "markdown",
      "source": "| Data Science Tools   |\n|----------------------|\n| Jupyter Notebook     |\n| VSCode               |\n| RStudio              |",
      "metadata": {}
    },
    {
      "id": "49ab887c-8c42-494d-8053-ee7253bf2575",
      "cell_type": "markdown",
      "source": "### Below are a few examples of evaluating arithmetic expressions in Python",
      "metadata": {}
    },
    {
      "id": "1ff9c724-0770-42a1-acf1-9e63826a5982",
      "cell_type": "code",
      "source": "# This is a simple arithmetic expression to multiply then add integers.\nresult = (3 * 4) + 5\nprint(result)  # Expected output: 17\n",
      "metadata": {
        "trusted": true
      },
      "outputs": [
        {
          "name": "stdout",
          "output_type": "stream",
          "text": "17\n"
        }
      ],
      "execution_count": 2
    },
    {
      "id": "63a7cb59-f644-4426-a3f0-2bae914a4ff4",
      "cell_type": "code",
      "source": "# Convert 200 minutes to hours by dividing by 60.\nhours = 200 / 60\nprint(hours)",
      "metadata": {
        "trusted": true
      },
      "outputs": [
        {
          "name": "stdout",
          "output_type": "stream",
          "text": "3.3333333333333335\n"
        }
      ],
      "execution_count": 3
    },
    {
      "id": "aa1da688-6482-4e08-abd0-710ccaefcd4e",
      "cell_type": "markdown",
      "source": "**Objectives:**\n- List popular languages for Data Science.\n- Identify key libraries for data analysis.\n- Understand basic arithmetic operations in Python.\n- Explore different data science tools.",
      "metadata": {}
    },
    {
      "id": "43b16244-e37f-41e8-a51f-73459f89fe4c",
      "cell_type": "markdown",
      "source": "## Author\nVasty Godoy",
      "metadata": {}
    }
  ]
}